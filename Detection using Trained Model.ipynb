{
 "cells": [
  {
   "cell_type": "code",
   "execution_count": 1,
   "metadata": {},
   "outputs": [
    {
     "name": "stderr",
     "output_type": "stream",
     "text": [
      "Using TensorFlow backend.\n"
     ]
    }
   ],
   "source": [
    "from keras.models import load_model\n",
    "import numpy as np\n",
    "import cv2"
   ]
  },
  {
   "cell_type": "code",
   "execution_count": 2,
   "metadata": {},
   "outputs": [
    {
     "name": "stdout",
     "output_type": "stream",
     "text": [
      "WARNING:tensorflow:From C:\\Anaconda\\envs\\ML_DL\\lib\\site-packages\\tensorflow_core\\python\\ops\\resource_variable_ops.py:1630: calling BaseResourceVariable.__init__ (from tensorflow.python.ops.resource_variable_ops) with constraint is deprecated and will be removed in a future version.\n",
      "Instructions for updating:\n",
      "If using Keras pass *_constraint arguments to layers.\n",
      "WARNING:tensorflow:From C:\\Anaconda\\envs\\ML_DL\\lib\\site-packages\\keras\\backend\\tensorflow_backend.py:4070: The name tf.nn.max_pool is deprecated. Please use tf.nn.max_pool2d instead.\n",
      "\n",
      "WARNING:tensorflow:From C:\\Anaconda\\envs\\ML_DL\\lib\\site-packages\\keras\\backend\\tensorflow_backend.py:422: The name tf.global_variables is deprecated. Please use tf.compat.v1.global_variables instead.\n",
      "\n"
     ]
    }
   ],
   "source": [
    "model = load_model('model-no-12.model')\n",
    "\n",
    "face_classifier = cv2.CascadeClassifier('haarcascade_frontalface_default.xml')\n",
    "\n",
    "source_cam = cv2.VideoCapture(0)\n",
    "\n",
    "mask_check = {0:'MASK',1:'NO MASK'}\n",
    "color_check = {0:(0,255,0),1:(0,0,255)}"
   ]
  },
  {
   "cell_type": "code",
   "execution_count": 3,
   "metadata": {},
   "outputs": [],
   "source": [
    "while(True):\n",
    "    \n",
    "    ret,img = source_cam.read()\n",
    "    col_image = cv2.cvtColor(img,cv2.COLOR_BGR2RGB)\n",
    "    faces = face_classifier.detectMultiScale(col_image, 1.3, 5)  \n",
    "\n",
    "    for X,Y,W,H in faces:\n",
    "    \n",
    "        face_image = col_image[Y:Y+W, X:X+W]\n",
    "        resize_image = cv2.resize(face_image, (100,100))\n",
    "        normalized_image = resize_image/255.0\n",
    "        reshaped_image = np.reshape(normalized_image,(1,100,100,3))\n",
    "        result = model.predict(reshaped_image)\n",
    "\n",
    "        label = np.argmax(result,axis=1)[0]\n",
    "        \n",
    "        cv2.rectangle(img,(X,Y),(X+W,Y+H),color_check[label],2)\n",
    "        if label == 0:\n",
    "            cv2.putText(img, mask_check[label], (X, Y-10),cv2.FONT_HERSHEY_SIMPLEX,0.9,(0,255,0),2)\n",
    "        else:\n",
    "            cv2.putText(img, mask_check[label], (X, Y-10),cv2.FONT_HERSHEY_SIMPLEX,0.9,(0,0,255),2)\n",
    "           \n",
    "    cv2.imshow('CAMERA',img)\n",
    "    key=cv2.waitKey(1)\n",
    "    if key==27:\n",
    "        break\n",
    "        \n",
    "cv2.destroyAllWindows()\n",
    "source_cam.release()"
   ]
  },
  {
   "cell_type": "code",
   "execution_count": null,
   "metadata": {},
   "outputs": [],
   "source": []
  }
 ],
 "metadata": {
  "kernelspec": {
   "display_name": "Python 3",
   "language": "python",
   "name": "python3"
  },
  "language_info": {
   "codemirror_mode": {
    "name": "ipython",
    "version": 3
   },
   "file_extension": ".py",
   "mimetype": "text/x-python",
   "name": "python",
   "nbconvert_exporter": "python",
   "pygments_lexer": "ipython3",
   "version": "3.7.7"
  }
 },
 "nbformat": 4,
 "nbformat_minor": 4
}
